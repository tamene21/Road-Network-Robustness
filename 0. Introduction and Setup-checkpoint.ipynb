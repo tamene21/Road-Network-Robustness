{
 "cells": [
  {
   "cell_type": "markdown",
   "metadata": {},
   "source": [
    "# A Short Practical Introduction to NetworkX\n",
    "\n",
    "### Authors: [Michael Lees](http://www.mhlees.com), Debraj Roy\n",
    "\n",
    "---\n",
    "The MIT License (MIT)\n",
    "\n",
    "Copyright (c) 2015 Michael Lees, Debraj Roy\n",
    "\n",
    "Permission is hereby granted, free of charge, to any person obtaining a copy\n",
    "of this software and associated documentation files (the \"Software\"), to deal\n",
    "in the Software without restriction, including without limitation the rights\n",
    "to use, copy, modify, merge, publish, distribute, sublicense, and/or sell\n",
    "copies of the Software, and to permit persons to whom the Software is\n",
    "furnished to do so, subject to the following conditions:\n",
    "\n",
    "The above copyright notice and this permission notice shall be included in all\n",
    "copies or substantial portions of the Software.\n",
    "\n",
    "THE SOFTWARE IS PROVIDED \"AS IS\", WITHOUT WARRANTY OF ANY KIND, EXPRESS OR\n",
    "IMPLIED, INCLUDING BUT NOT LIMITED TO THE WARRANTIES OF MERCHANTABILITY,\n",
    "FITNESS FOR A PARTICULAR PURPOSE AND NONINFRINGEMENT. IN NO EVENT SHALL THE\n",
    "AUTHORS OR COPYRIGHT HOLDERS BE LIABLE FOR ANY CLAIM, DAMAGES OR OTHER\n",
    "LIABILITY, WHETHER IN AN ACTION OF CONTRACT, TORT OR OTHERWISE, ARISING FROM,\n",
    "OUT OF OR IN CONNECTION WITH THE SOFTWARE OR THE USE OR OTHER DEALINGS IN THE\n",
    "SOFTWARE.\n",
    "\n",
    "---\n",
    "\n",
    "## Introduction\n",
    "\n",
    "This small collection of Jupyter (IPython) notebooks serves as a introduction to the [NetworkX](http://) Python package. It is intended for students who are interested to run network simulation or network analysis using NetworkX and Python.\n",
    "\n",
    "You should be able to understand and follow most of the code examples without prior programming experience. However, in order to gain most from the tutorials it is advisable to have some basic programming knowledge. If you have never programmed before I would recommend the [Python code academy course](http://www.codeacademy.com/python). There is also an assumption that you understand something about Complex Networks (this practical course has a corresponding series of lectures). If you would like to learn more about Complex Networks I would advise the free [e-book](barabasilab.neu.edu/networksciencebook/) by Laszlo Barabási.\n",
    "\n",
    "The course consists of four Jupyter notebooks:\n",
    "\n",
    "1. <span style=\"color:green\">**_NetworkX Basics_**</span> - this is more or less a direct copy of the official [NetworkX tutorial](http://www.networkx.com). It will teach you about the basic forms of graphs in NetworkX, basic drawing, how to create nodes, edges, etc.\n",
    "\n",
    "2. <span style=\"color:green\">**_Network Data Analysis using NetworkX_**</span> - this covers an example of analysing real world data (the worldwide airline network) in NetworkX. It shows various centrality measures, how to plot the degree distribution, how to export to various file formats (that can work with Gephi), fitting plots with powerlaw, etc.\n",
    "\n",
    "3. <span style=\"color:green\">**_Network Robustness using NetworkX_**</span> - this repeats some classic experiments related to the robustness of scale-free  networks when nodes fail or are attacked. It also includes robustness analysis of the airline network used in part two.\n",
    "\n",
    "4. <span style=\"color:green\">**_Epidemic Spreading using NetworkX_**</span> - this builds a simple SIR model for epidemic spreading, then investigates different vacination strategies to assess the effectiveness is prevent the disease spread.\n",
    "\n",
    "The first step you must make is to ensure that you have all the necessary software/libraries installed on your own machine, see the below section for instructions on how to do this.\n"
   ]
  },
  {
   "cell_type": "markdown",
   "metadata": {},
   "source": [
    "## Setup on your computer\n",
    "\n",
    "This series of tutorials uses Python and NetworkX to analyse complex networks. Jupyter (IPython) notebooks are used through-out as they are really excellent teaching tools! In this notebook we will provide instructions for installing all the necessary software on your own machine, whether it be Windows, Mac, Linux.\n",
    "\n",
    "### Python 2.7x\n",
    "\n",
    "Please install Python 2.7x for your operating system. <span style=\"color:red\">**DO NOT INSTALL Python 3.x**</span>\n",
    "If you already have python 3.x installed then it's advisable to use anaconda as instructed below to install Python 2.7x."
   ]
  },
  {
   "cell_type": "markdown",
   "metadata": {},
   "source": [
    "---\n",
    "\n",
    "## 1. **Install Python**\n",
    "\n",
    "Perhaps the simplest way if you don't know any of the other options is to use Anaconda. It works on all OS\n",
    "\n",
    "### Mac\n",
    "\n",
    "a. **Mac Brew**: *brew install python*<br>\n",
    "b. **Anaconda**: Read https://www.continuum.io/sites/default/files/Anaconda-Quickstart.pdf\n",
    "\n",
    "### Windows\n",
    "\n",
    "a. **Windows Installer**: Goto https://www.python.org/downloads/release/python-2710/ and download the correct installer (either 32-bit or 64-bit). <br>\n",
    "b. **Anaconda**: Read https://www.continuum.io/sites/default/files/Anaconda-Quickstart.pdf\n",
    "\n",
    "### Linux\n",
    "\n",
    "a. **Anaconda**: Read https://www.continuum.io/sites/default/files/Anaconda-Quickstart.pdf\n",
    "\n",
    "---\n",
    "\n",
    "## 2a. Install Jupyter (skip if you used anaconda)\n",
    "\n",
    "**If you used anaconda you can skip this step.**\n",
    "\n",
    "From the Mac terminal, or the anaconda terminal, the linux terminal, or the windows command prompt, type the following:\n",
    "\n",
    "*pip install jupyter* \n",
    "\n",
    "---\n",
    "\n",
    "##  <span style=\"color:red\">NOTE: If anything fails above see: http://jupyter.readthedocs.org/en/latest/install.html</span>\n",
    "\n",
    "---\n",
    "\n",
    "## 3. **Install other required libraries**\n",
    "\n",
    "From the Mac terminal, or the anaconda terminal, the linux terminal, or the windows command prompt, type the following:\n",
    "\n",
    "- *pip install networkx*\n",
    "- *pip install matplotlib*\n",
    "- *pip install community*\n",
    "- *pip install powerlaw*\n",
    "- *pip install scipy*\n",
    "- *pip install pydot*\n",
    "- *pip install python-louvain*\n",
    "- *pip install tqdm*\n",
    "- *pip install mpmath*\n",
    "- *pip install pyparsing*\n",
    "- *pip install enum*\n",
    "- *pip install bokeh*\n",
    "\n",
    "---"
   ]
  },
  {
   "cell_type": "markdown",
   "metadata": {},
   "source": [
    "## Testing installation\n",
    "Once everything is installed, you should be able to open this jupyter notebook and run it in the browser.\n",
    "\n",
    "To do this open Terminal or Command prompt, navigate to the directory in which you planced this and the other python notebooks (where you saved on download). Then do:\n",
    "\n",
    "*jupyter notebook*\n",
    "\n",
    "A browser should open and you should see the list of notebooks. Click on **0. Setup**.\n",
    "Navigate back to this point in the netbook, then select the cell below and press (shift+return) to try and execute the import commands below. If you see no errors and it prints \"ALL OK!\", everything should be ok. If you see some errors, please read the instructions above and try google to see if you can fix the problem yourself.\n",
    "\n",
    "If you still don't manage you can send an email to the course organizers, including a copy-paste of your error."
   ]
  },
  {
   "cell_type": "code",
   "execution_count": 1,
   "metadata": {},
   "outputs": [
    {
     "name": "stdout",
     "output_type": "stream",
     "text": [
      " ........ ALL OK! ........ \n"
     ]
    }
   ],
   "source": [
    "try:\n",
    "    import csv #import the Python CSV library\n",
    "    import networkx as nx #import NetworkX\n",
    "    import numpy as np #import numpy for ...\n",
    "    import community #import community (https://pypi.python.org/pypi/python-louvain/0.3)\n",
    "    #force drawing of graphs inline for ipython notebook\n",
    "    %matplotlib inline \n",
    "    import matplotlib.pyplot as plt #import matplotlib for plotting/drawing grpahs\n",
    "    import powerlaw # for testing fits on heavy tailed distributions\n",
    "    import bokeh # for creating interactive plots\n",
    "    import copy # this is use for making deep copies of lists\n",
    "    from tqdm import tqdm # nice library for progress bars\n",
    "    import enum #for enumeration support in Python 2.7x\n",
    "except ImportError:\n",
    "    import traceback\n",
    "    traceback.print_exc()\n",
    "    raise ImportError('Something failed, see above.')\n",
    "else:\n",
    "    print \" ........ ALL OK! ........ \"\n",
    "\n"
   ]
  },
  {
   "cell_type": "code",
   "execution_count": null,
   "metadata": {
    "collapsed": true
   },
   "outputs": [],
   "source": []
  }
 ],
 "metadata": {
  "kernelspec": {
   "display_name": "Python 3",
   "language": "python",
   "name": "python3"
  },
  "language_info": {
   "codemirror_mode": {
    "name": "ipython",
    "version": 3
   },
   "file_extension": ".py",
   "mimetype": "text/x-python",
   "name": "python",
   "nbconvert_exporter": "python",
   "pygments_lexer": "ipython3",
   "version": "3.6.5"
  }
 },
 "nbformat": 4,
 "nbformat_minor": 1
}
